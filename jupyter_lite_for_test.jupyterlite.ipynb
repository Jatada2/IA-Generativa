{
  "metadata": {
    "kernelspec": {
      "name": "python",
      "display_name": "Python (Pyodide)",
      "language": "python"
    },
    "language_info": {
      "codemirror_mode": {
        "name": "python",
        "version": 3
      },
      "file_extension": ".py",
      "mimetype": "text/x-python",
      "name": "python",
      "nbconvert_exporter": "python",
      "pygments_lexer": "ipython3",
      "version": "3.8"
    }
  },
  "nbformat_minor": 4,
  "nbformat": 4,
  "cells": [
    {
      "cell_type": "markdown",
      "source": "<p style=\"text-align:center\">\n    <a href=\"https://skills.network\" target=\"_blank\">\n    <img src=\"https://cf-courses-data.s3.us.cloud-object-storage.appdomain.cloud/assets/logos/SN_web_lightmode.png\" width=\"300\" alt=\"Skills Network Logo\">\n    </a>\n</p>\n",
      "metadata": {}
    },
    {
      "cell_type": "markdown",
      "source": "# Test Environment for Generative AI classroom labs\n\nThis lab provides a test environment for the codes generated using the Generative AI classroom.\n\nFollow the instructions below to set up this environment for further use.\n",
      "metadata": {}
    },
    {
      "cell_type": "markdown",
      "source": "# Setup\n",
      "metadata": {}
    },
    {
      "cell_type": "markdown",
      "source": "### Install required libraries\n\nIn case of a requirement of installing certain python libraries for use in your task, you may do so as shown below.\n",
      "metadata": {}
    },
    {
      "cell_type": "code",
      "source": "%pip install seaborn\nimport piplite\n\nawait piplite.install(['nbformat', 'plotly'])",
      "metadata": {
        "trusted": true
      },
      "outputs": [],
      "execution_count": 26
    },
    {
      "cell_type": "markdown",
      "source": "### Dataset URL from the GenAI lab\nUse the URL provided in the GenAI lab in the cell below. \n",
      "metadata": {}
    },
    {
      "cell_type": "code",
      "source": "URL = \"https://cf-courses-data.s3.us.cloud-object-storage.appdomain.cloud/IBMDeveloperSkillsNetwork-DA0101EN-Coursera/laptop_pricing_dataset_mod1.csv\"",
      "metadata": {
        "trusted": true
      },
      "outputs": [],
      "execution_count": 27
    },
    {
      "cell_type": "markdown",
      "source": "### Downloading the dataset\n\nExecute the following code to download the dataset in to the interface.\n\n> Please note that this step is essential in JupyterLite. If you are using a downloaded version of this notebook and running it on JupyterLabs, then you can skip this step and directly use the URL in pandas.read_csv() function to read the dataset as a dataframe\n",
      "metadata": {}
    },
    {
      "cell_type": "code",
      "source": "from pyodide.http import pyfetch\n\nasync def download(url, filename):\n    response = await pyfetch(url)\n    if response.status == 200:\n        with open(filename, \"wb\") as f:\n            f.write(await response.bytes())\n\npath = URL\n\nawait download(path, \"dataset.csv\")",
      "metadata": {
        "trusted": true
      },
      "outputs": [],
      "execution_count": 28
    },
    {
      "cell_type": "code",
      "source": "import pandas as pd\n\n# Specify the file path\nfile_path = \"dataset.csv\"\n\n# Read the CSV file into a Pandas data frame\ndf = pd.read_csv(file_path)\n\n# Assuming the first rows of the file are the headers, you don't need to specify any additional parameters\n\n# Additional details:\n# - The `pd.read_csv()` function is used to read a CSV file into a Pandas data frame.\n# - By default, it assumes that the first row of the file contains the headers for the data.\n# - If your file doesn't have headers, you can specify `header=None` as an additional parameter.\n# - You can also specify other parameters, such as `sep` to specify the delimiter used in the file.\n# - Make sure you have the Pandas library installed in your Python environment before running this code.",
      "metadata": {
        "trusted": true
      },
      "outputs": [],
      "execution_count": 29
    },
    {
      "cell_type": "code",
      "source": "df\n",
      "metadata": {
        "trusted": true
      },
      "outputs": [
        {
          "execution_count": 30,
          "output_type": "execute_result",
          "data": {
            "text/plain": "     Unnamed: 0 Manufacturer  Category     Screen  GPU  OS  CPU_core  \\\n0             0         Acer         4  IPS Panel    2   1         5   \n1             1         Dell         3    Full HD    1   1         3   \n2             2         Dell         3    Full HD    1   1         7   \n3             3         Dell         4  IPS Panel    2   1         5   \n4             4           HP         4    Full HD    2   1         7   \n..          ...          ...       ...        ...  ...  ..       ...   \n233         233       Lenovo         4  IPS Panel    2   1         7   \n234         234      Toshiba         3    Full HD    2   1         5   \n235         235       Lenovo         4  IPS Panel    2   1         5   \n236         236       Lenovo         3    Full HD    3   1         5   \n237         237      Toshiba         3    Full HD    2   1         5   \n\n     Screen_Size_cm  CPU_frequency  RAM_GB  Storage_GB_SSD  Weight_kg  Price  \n0            35.560            1.6       8             256       1.60    978  \n1            39.624            2.0       4             256       2.20    634  \n2            39.624            2.7       8             256       2.20    946  \n3            33.782            1.6       8             128       1.22   1244  \n4            39.624            1.8       8             256       1.91    837  \n..              ...            ...     ...             ...        ...    ...  \n233          35.560            2.6       8             256       1.70   1891  \n234          33.782            2.4       8             256       1.20   1950  \n235          30.480            2.6       8             256       1.36   2236  \n236          39.624            2.5       6             256       2.40    883  \n237          35.560            2.3       8             256       1.95   1499  \n\n[238 rows x 13 columns]",
            "text/html": "<div>\n<style scoped>\n    .dataframe tbody tr th:only-of-type {\n        vertical-align: middle;\n    }\n\n    .dataframe tbody tr th {\n        vertical-align: top;\n    }\n\n    .dataframe thead th {\n        text-align: right;\n    }\n</style>\n<table border=\"1\" class=\"dataframe\">\n  <thead>\n    <tr style=\"text-align: right;\">\n      <th></th>\n      <th>Unnamed: 0</th>\n      <th>Manufacturer</th>\n      <th>Category</th>\n      <th>Screen</th>\n      <th>GPU</th>\n      <th>OS</th>\n      <th>CPU_core</th>\n      <th>Screen_Size_cm</th>\n      <th>CPU_frequency</th>\n      <th>RAM_GB</th>\n      <th>Storage_GB_SSD</th>\n      <th>Weight_kg</th>\n      <th>Price</th>\n    </tr>\n  </thead>\n  <tbody>\n    <tr>\n      <th>0</th>\n      <td>0</td>\n      <td>Acer</td>\n      <td>4</td>\n      <td>IPS Panel</td>\n      <td>2</td>\n      <td>1</td>\n      <td>5</td>\n      <td>35.560</td>\n      <td>1.6</td>\n      <td>8</td>\n      <td>256</td>\n      <td>1.60</td>\n      <td>978</td>\n    </tr>\n    <tr>\n      <th>1</th>\n      <td>1</td>\n      <td>Dell</td>\n      <td>3</td>\n      <td>Full HD</td>\n      <td>1</td>\n      <td>1</td>\n      <td>3</td>\n      <td>39.624</td>\n      <td>2.0</td>\n      <td>4</td>\n      <td>256</td>\n      <td>2.20</td>\n      <td>634</td>\n    </tr>\n    <tr>\n      <th>2</th>\n      <td>2</td>\n      <td>Dell</td>\n      <td>3</td>\n      <td>Full HD</td>\n      <td>1</td>\n      <td>1</td>\n      <td>7</td>\n      <td>39.624</td>\n      <td>2.7</td>\n      <td>8</td>\n      <td>256</td>\n      <td>2.20</td>\n      <td>946</td>\n    </tr>\n    <tr>\n      <th>3</th>\n      <td>3</td>\n      <td>Dell</td>\n      <td>4</td>\n      <td>IPS Panel</td>\n      <td>2</td>\n      <td>1</td>\n      <td>5</td>\n      <td>33.782</td>\n      <td>1.6</td>\n      <td>8</td>\n      <td>128</td>\n      <td>1.22</td>\n      <td>1244</td>\n    </tr>\n    <tr>\n      <th>4</th>\n      <td>4</td>\n      <td>HP</td>\n      <td>4</td>\n      <td>Full HD</td>\n      <td>2</td>\n      <td>1</td>\n      <td>7</td>\n      <td>39.624</td>\n      <td>1.8</td>\n      <td>8</td>\n      <td>256</td>\n      <td>1.91</td>\n      <td>837</td>\n    </tr>\n    <tr>\n      <th>...</th>\n      <td>...</td>\n      <td>...</td>\n      <td>...</td>\n      <td>...</td>\n      <td>...</td>\n      <td>...</td>\n      <td>...</td>\n      <td>...</td>\n      <td>...</td>\n      <td>...</td>\n      <td>...</td>\n      <td>...</td>\n      <td>...</td>\n    </tr>\n    <tr>\n      <th>233</th>\n      <td>233</td>\n      <td>Lenovo</td>\n      <td>4</td>\n      <td>IPS Panel</td>\n      <td>2</td>\n      <td>1</td>\n      <td>7</td>\n      <td>35.560</td>\n      <td>2.6</td>\n      <td>8</td>\n      <td>256</td>\n      <td>1.70</td>\n      <td>1891</td>\n    </tr>\n    <tr>\n      <th>234</th>\n      <td>234</td>\n      <td>Toshiba</td>\n      <td>3</td>\n      <td>Full HD</td>\n      <td>2</td>\n      <td>1</td>\n      <td>5</td>\n      <td>33.782</td>\n      <td>2.4</td>\n      <td>8</td>\n      <td>256</td>\n      <td>1.20</td>\n      <td>1950</td>\n    </tr>\n    <tr>\n      <th>235</th>\n      <td>235</td>\n      <td>Lenovo</td>\n      <td>4</td>\n      <td>IPS Panel</td>\n      <td>2</td>\n      <td>1</td>\n      <td>5</td>\n      <td>30.480</td>\n      <td>2.6</td>\n      <td>8</td>\n      <td>256</td>\n      <td>1.36</td>\n      <td>2236</td>\n    </tr>\n    <tr>\n      <th>236</th>\n      <td>236</td>\n      <td>Lenovo</td>\n      <td>3</td>\n      <td>Full HD</td>\n      <td>3</td>\n      <td>1</td>\n      <td>5</td>\n      <td>39.624</td>\n      <td>2.5</td>\n      <td>6</td>\n      <td>256</td>\n      <td>2.40</td>\n      <td>883</td>\n    </tr>\n    <tr>\n      <th>237</th>\n      <td>237</td>\n      <td>Toshiba</td>\n      <td>3</td>\n      <td>Full HD</td>\n      <td>2</td>\n      <td>1</td>\n      <td>5</td>\n      <td>35.560</td>\n      <td>2.3</td>\n      <td>8</td>\n      <td>256</td>\n      <td>1.95</td>\n      <td>1499</td>\n    </tr>\n  </tbody>\n</table>\n<p>238 rows × 13 columns</p>\n</div>"
          },
          "metadata": {}
        }
      ],
      "execution_count": 30
    },
    {
      "cell_type": "code",
      "source": "def find_missing_values(df):\n    missing_values = df.isnull().sum()\n    columns_with_missing_values = missing_values[missing_values > 0].index.tolist()\n    return columns_with_missing_values\n\n# Assuming 'data_frame' is the pandas data frame you want to check for missing values\ncolumns_with_missing_values = find_missing_values(df)\n\n# Display the columns with missing values\nprint(\"Columns with missing values:\", columns_with_missing_values)\n",
      "metadata": {
        "trusted": true
      },
      "outputs": [
        {
          "name": "stdout",
          "text": "Columns with missing values: ['Screen_Size_cm', 'Weight_kg']\n",
          "output_type": "stream"
        }
      ],
      "execution_count": 31
    },
    {
      "cell_type": "markdown",
      "source": "# Test Environment\n",
      "metadata": {}
    },
    {
      "cell_type": "code",
      "source": "import numpy as np\n\n# Step 2: Creating a sample DataFrame\ndata = {\n    'User_ID': [1, 2, 3, 4, 5, 6],\n    'Screen_Size_cm': ['15', np.nan, '15', '20', '15', '20'],\n    'Weight_kg': [70, 80, np.nan, 65, 72, 85]\n}\n\ndf = pd.DataFrame(data)\n\n# Step 3: Replace missing values\n\n# For the categorical column 'Screen_Size_cm'\nmost_frequent_value = df['Screen_Size_cm'].mode()[0]\ndf['Screen_Size_cm'].fillna(most_frequent_value, inplace=True)\n\n# For the continuous column 'Weight_kg'\nmean_weight = df['Weight_kg'].mean()\ndf['Weight_kg'].fillna(mean_weight, inplace=True)\n\n# Display the resulting DataFrame\nprint(df)\n\n",
      "metadata": {
        "trusted": true
      },
      "outputs": [
        {
          "name": "stderr",
          "text": "<ipython-input-32-e06454b3e62d>:16: FutureWarning: A value is trying to be set on a copy of a DataFrame or Series through chained assignment using an inplace method.\nThe behavior will change in pandas 3.0. This inplace method will never work because the intermediate object on which we are setting values always behaves as a copy.\n\nFor example, when doing 'df[col].method(value, inplace=True)', try using 'df.method({col: value}, inplace=True)' or df[col] = df[col].method(value) instead, to perform the operation inplace on the original object.\n\n\n  df['Screen_Size_cm'].fillna(most_frequent_value, inplace=True)\n<ipython-input-32-e06454b3e62d>:20: FutureWarning: A value is trying to be set on a copy of a DataFrame or Series through chained assignment using an inplace method.\nThe behavior will change in pandas 3.0. This inplace method will never work because the intermediate object on which we are setting values always behaves as a copy.\n\nFor example, when doing 'df[col].method(value, inplace=True)', try using 'df.method({col: value}, inplace=True)' or df[col] = df[col].method(value) instead, to perform the operation inplace on the original object.\n\n\n  df['Weight_kg'].fillna(mean_weight, inplace=True)\n",
          "output_type": "stream"
        },
        {
          "name": "stdout",
          "text": "   User_ID Screen_Size_cm  Weight_kg\n0        1             15       70.0\n1        2             15       80.0\n2        3             15       74.4\n3        4             20       65.0\n4        5             15       72.0\n5        6             20       85.0\n",
          "output_type": "stream"
        }
      ],
      "execution_count": 32
    },
    {
      "cell_type": "code",
      "source": "# Step 2: Creating a sample DataFrame\ndata = {\n    'Screen_Size_cm': ['15', '15', '15', '20', np.nan, '20'],\n    'Weight_kg': [70, 80, np.nan, 65, 72, 85]\n}\n\ndf = pd.DataFrame(data)\n\n# Step 3: Change data types\n\n# Convert 'Screen_Size_cm' to float, converting strings into numeric values (e.g., '15' to 15.0)\ndf['Screen_Size_cm'] = df['Screen_Size_cm'].astype('float64')\n\n# Convert 'Weight_kg' to float directly (already numeric)\ndf['Weight_kg'] = df['Weight_kg'].astype('float64')\n\n# Display the resulting DataFrame with new data types\nprint(df)",
      "metadata": {
        "trusted": true
      },
      "outputs": [
        {
          "name": "stdout",
          "text": "   Screen_Size_cm  Weight_kg\n0            15.0       70.0\n1            15.0       80.0\n2            15.0        NaN\n3            20.0       65.0\n4             NaN       72.0\n5            20.0       85.0\n",
          "output_type": "stream"
        }
      ],
      "execution_count": 33
    },
    {
      "cell_type": "code",
      "source": "# Step 2: Creating a sample DataFrame\ndata = {\n    'Screen_Size_cm': ['15', '15', '15', '20', np.nan, '20'],\n    'Weight_kg': [70, 80, np.nan, 65, 72, 85]\n}\n\ndf = pd.DataFrame(data)\n\n# Step 3: Convert to numeric and then apply conversion functions\n\n# Convert 'Screen_Size_cm' column to float first (equal to '15', '20', NaN as floats)\ndf['Screen_Size_cm'] = pd.to_numeric(df['Screen_Size_cm'], errors='coerce')\n\n# Function to convert centimeters to inches\ndef cm_to_inch(cm):\n    return cm / 2.54\n\n# Function to convert kilograms to pounds\ndef kg_to_pounds(kg):\n    return kg * 2.20462\n\n# Apply conversions and rename columns\ndf['Screen_Size_inch'] = df['Screen_Size_cm'].apply(cm_to_inch)\ndf['Weight_pounds'] = df['Weight_kg'].apply(kg_to_pounds)\n\n# Drop the original columns after transformation\ndf.drop(columns=['Screen_Size_cm', 'Weight_kg'], inplace=True)\n\n# Display the resulting DataFrame\nprint(df)\n\n",
      "metadata": {
        "trusted": true
      },
      "outputs": [
        {
          "name": "stdout",
          "text": "   Screen_Size_inch  Weight_pounds\n0          5.905512      154.32340\n1          5.905512      176.36960\n2          5.905512            NaN\n3          7.874016      143.30030\n4               NaN      158.73264\n5          7.874016      187.39270\n",
          "output_type": "stream"
        }
      ],
      "execution_count": 34
    },
    {
      "cell_type": "code",
      "source": "# Step 2: Creating a sample DataFrame\ndata = {\n    'User_ID': [1, 2, 3, 4, 5, 6],\n    'Screen_Size_cm': ['15', np.nan, '15', '20', '15', '20'],\n    'Weight_kg': [70, 80, np.nan, 65, 72, 85]\n}\n\ndf = pd.DataFrame(data)\n\n# Step 3: Replace missing values\n\n# For the categorical column 'Screen_Size_cm'\nmost_frequent_value = df['Screen_Size_cm'].mode()[0]\ndf['Screen_Size_cm'].fillna(most_frequent_value, inplace=True)\n\n# For the continuous column 'Weight_kg'\nmean_weight = df['Weight_kg'].mean()\ndf['Weight_kg'].fillna(mean_weight, inplace=True)\n\n# Display the resulting DataFrame\nprint(df)",
      "metadata": {
        "trusted": true
      },
      "outputs": [
        {
          "name": "stderr",
          "text": "<ipython-input-35-2f7d27d9c8e0>:14: FutureWarning: A value is trying to be set on a copy of a DataFrame or Series through chained assignment using an inplace method.\nThe behavior will change in pandas 3.0. This inplace method will never work because the intermediate object on which we are setting values always behaves as a copy.\n\nFor example, when doing 'df[col].method(value, inplace=True)', try using 'df.method({col: value}, inplace=True)' or df[col] = df[col].method(value) instead, to perform the operation inplace on the original object.\n\n\n  df['Screen_Size_cm'].fillna(most_frequent_value, inplace=True)\n<ipython-input-35-2f7d27d9c8e0>:18: FutureWarning: A value is trying to be set on a copy of a DataFrame or Series through chained assignment using an inplace method.\nThe behavior will change in pandas 3.0. This inplace method will never work because the intermediate object on which we are setting values always behaves as a copy.\n\nFor example, when doing 'df[col].method(value, inplace=True)', try using 'df.method({col: value}, inplace=True)' or df[col] = df[col].method(value) instead, to perform the operation inplace on the original object.\n\n\n  df['Weight_kg'].fillna(mean_weight, inplace=True)\n",
          "output_type": "stream"
        },
        {
          "name": "stdout",
          "text": "   User_ID Screen_Size_cm  Weight_kg\n0        1             15       70.0\n1        2             15       80.0\n2        3             15       74.4\n3        4             20       65.0\n4        5             15       72.0\n5        6             20       85.0\n",
          "output_type": "stream"
        }
      ],
      "execution_count": 35
    },
    {
      "cell_type": "code",
      "source": "# Step 2: Creating a sample DataFrame\ndata = {\n    'Screen_Size_cm': ['15', '15', '15', '20', np.nan, '20'],\n    'Weight_kg': [70, 80, np.nan, 65, 72, 85]\n}\n\ndf = pd.DataFrame(data)\n\n# Step 3: Change data types\n\n# Convert 'Screen_Size_cm' to float, converting strings into numeric values (e.g., '15' to 15.0)\ndf['Screen_Size_cm'] = df['Screen_Size_cm'].astype('float64')\n\n# Convert 'Weight_kg' to float directly (already numeric)\ndf['Weight_kg'] = df['Weight_kg'].astype('float64')\n\n# Display the resulting DataFrame with new data types\nprint(df)",
      "metadata": {
        "trusted": true
      },
      "outputs": [
        {
          "name": "stdout",
          "text": "   Screen_Size_cm  Weight_kg\n0            15.0       70.0\n1            15.0       80.0\n2            15.0        NaN\n3            20.0       65.0\n4             NaN       72.0\n5            20.0       85.0\n",
          "output_type": "stream"
        }
      ],
      "execution_count": 36
    },
    {
      "cell_type": "code",
      "source": "# Step 2: Creating a sample DataFrame\ndata = {\n    'Screen_Size_cm': ['15', '15', '15', '20', np.nan, '20'],\n    'Weight_kg': [70, 80, np.nan, 65, 72, 85]\n}\n\ndf = pd.DataFrame(data)\n\n# Step 3: Convert to numeric and then apply conversion functions\n\n# Convert 'Screen_Size_cm' column to float first (equal to '15', '20', NaN as floats)\ndf['Screen_Size_cm'] = pd.to_numeric(df['Screen_Size_cm'], errors='coerce')\n\n# Function to convert centimeters to inches\ndef cm_to_inch(cm):\n    return cm / 2.54\n\n# Function to convert kilograms to pounds\ndef kg_to_pounds(kg):\n    return kg * 2.20462\n\n# Apply conversions and rename columns\ndf['Screen_Size_inch'] = df['Screen_Size_cm'].apply(cm_to_inch)\ndf['Weight_pounds'] = df['Weight_kg'].apply(kg_to_pounds)\n\n# Drop the original columns after transformation\ndf.drop(columns=['Screen_Size_cm', 'Weight_kg'], inplace=True)\n\n# Display the resulting DataFrame\nprint(df)",
      "metadata": {
        "trusted": true
      },
      "outputs": [
        {
          "name": "stdout",
          "text": "   Screen_Size_inch  Weight_pounds\n0          5.905512      154.32340\n1          5.905512      176.36960\n2          5.905512            NaN\n3          7.874016      143.30030\n4               NaN      158.73264\n5          7.874016      187.39270\n",
          "output_type": "stream"
        }
      ],
      "execution_count": 37
    },
    {
      "cell_type": "code",
      "source": "# Assume df is already defined\n# Example DataFrame creation for demonstration\ndata = {\n    'CPU_frequency': [2000, 2500, 3000, 2200, 1800, 2400]\n}\n\ndf = pd.DataFrame(data)\n\n# Step 2: Find the maximum value of 'CPU_frequency'\nmax_cpu_freq = df['CPU_frequency'].max()\n\n# Step 3: Normalize the 'CPU_frequency' column\ndf['CPU_frequency'] = df['CPU_frequency'] / max_cpu_freq\n\n# Display the updated DataFrame\nprint(df)\n",
      "metadata": {
        "trusted": true
      },
      "outputs": [
        {
          "name": "stdout",
          "text": "   CPU_frequency\n0       0.666667\n1       0.833333\n2       1.000000\n3       0.733333\n4       0.600000\n5       0.800000\n",
          "output_type": "stream"
        }
      ],
      "execution_count": 38
    },
    {
      "cell_type": "code",
      "source": "# Sample DataFrame creation for demonstration\ndata = {\n    'Screen': ['A', 'B', 'A', 'C', 'B', 'D'],\n    'Value1': [1, 2, 3, 4, 5, 6]\n}\n\ndf = pd.DataFrame(data)\n\n# Step 1: Create indicator variables\n# Create a new DataFrame df1\ndf1 = pd.get_dummies(df, columns=['Screen'], prefix='Screen')\n\n# Append df1 to df\ndf = pd.concat([df, df1], axis=1)\n\n# Drop the original 'Screen' column\ndf.drop(columns='Screen', inplace=True)\n\n# Display the updated DataFrame\nprint(df)",
      "metadata": {
        "trusted": true
      },
      "outputs": [
        {
          "name": "stdout",
          "text": "   Value1  Value1  Screen_A  Screen_B  Screen_C  Screen_D\n0       1       1      True     False     False     False\n1       2       2     False      True     False     False\n2       3       3      True     False     False     False\n3       4       4     False     False      True     False\n4       5       5     False      True     False     False\n5       6       6     False     False     False      True\n",
          "output_type": "stream"
        }
      ],
      "execution_count": 39
    },
    {
      "cell_type": "code",
      "source": "import pandas as pd\n\ndef convert_price_usd_to_eur(df, exchange_rate):\n    \"\"\"\n    Convert prices from USD to Euros.\n    \n    Args:\n        df (DataFrame): The input DataFrame containing a 'Price_USD' column.\n        exchange_rate (float): The exchange rate from USD to Euros.\n    \n    Returns:\n        DataFrame: The DataFrame with the 'Price_USD' column converted to 'Price_EUR'.\n    \"\"\"\n    # Check if 'Price_USD' column exists in the DataFrame\n    if 'Price_USD' not in df.columns:\n        raise KeyError(\"'Price_USD' column not found in the DataFrame\")\n    \n    # Convert 'Price_USD' to 'Price_EUR'\n    df['Price_EUR'] = df['Price_USD'] * exchange_rate\n    return df\n\n# Sample DataFrame creation\ndata = {\n    'Product': ['Laptop', 'Phone', 'Tablet'],\n    'Price_USD': [800, 450, 250]\n}\n\ndf = pd.DataFrame(data)\n\n# Exchange rate (for demonstration, a simplified rate of 1.1 is used)\nexchange_rate = 1.1\n\ntry:\n    # Convert prices\n    df = convert_price_usd_to_eur(df, exchange_rate)\n    # Print the updated DataFrame\n    print(df)\nexcept KeyError as e:\n    print(e)",
      "metadata": {
        "trusted": true
      },
      "outputs": [
        {
          "name": "stdout",
          "text": "  Product  Price_USD  Price_EUR\n0  Laptop        800      880.0\n1   Phone        450      495.0\n2  Tablet        250      275.0\n",
          "output_type": "stream"
        }
      ],
      "execution_count": 41
    },
    {
      "cell_type": "code",
      "source": "def minmax_normalize(df, column_name):\n    \"\"\"\n    Normaliza los valores de una columna específica en un DataFrame utilizando la escala min-max.\n    \n    Args:\n    df (DataFrame): El DataFrame original.\n    column_name (str): Nombre de la columna que se normalizará.\n    \n    Returns:\n    DataFrame: El DataFrame con la columna normalizada.\n    \"\"\"\n    # Comprobar si la columna existe en el DataFrame\n    if column_name not in df.columns:\n        raise ValueError(f\"Column '{column_name}' not found in the DataFrame\")\n    \n    # Obtener los mínimos y máximos de la columna\n    min_val = df[column_name].min()\n    max_val = df[column_name].max()\n    \n    # Aplicar la escala min-max y reemplazar los valores originales\n    df[column_name] = (df[column_name] - min_val) / (max_val - min_val)\n    return df\n\n# Demostrar con un DataFrame sampleado\ndata = {\n    'CPU_frequency': [2000, 2500, 3000, 2200, 1800, 2400],\n    'Other_Value': [1, 2, 3, 4, 5, 6]\n}\n\ndf = pd.DataFrame(data)\n\n# Normalizar la columna 'CPU_frequency'\ndf = minmax_normalize(df, 'CPU_frequency')\n\n# Imprimir el DataFrame con las normalizaciones\nprint(df)",
      "metadata": {
        "trusted": true
      },
      "outputs": [
        {
          "name": "stdout",
          "text": "   CPU_frequency  Other_Value\n0       0.166667            1\n1       0.583333            2\n2       1.000000            3\n3       0.333333            4\n4       0.000000            5\n5       0.500000            6\n",
          "output_type": "stream"
        }
      ],
      "execution_count": 42
    },
    {
      "cell_type": "code",
      "source": "",
      "metadata": {
        "trusted": true
      },
      "outputs": [],
      "execution_count": null
    },
    {
      "cell_type": "markdown",
      "source": "## Authors\n",
      "metadata": {}
    },
    {
      "cell_type": "markdown",
      "source": "[Abhishek Gagneja](https://www.linkedin.com/in/abhishek-gagneja-23051987/)\n",
      "metadata": {}
    },
    {
      "cell_type": "markdown",
      "source": "## Change Log\n",
      "metadata": {}
    },
    {
      "cell_type": "markdown",
      "source": "|Date (YYYY-MM-DD)|Version|Changed By|Change Description|\n|-|-|-|-|\n|2023-12-10|0.1|Abhishek Gagneja|Initial Draft created|\n",
      "metadata": {}
    },
    {
      "cell_type": "markdown",
      "source": "Copyright © 2023 IBM Corporation. All rights reserved.\n",
      "metadata": {}
    }
  ]
}